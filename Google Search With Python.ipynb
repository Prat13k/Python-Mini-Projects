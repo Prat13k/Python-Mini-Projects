{
 "cells": [
  {
   "cell_type": "code",
   "execution_count": 2,
   "metadata": {},
   "outputs": [
    {
     "name": "stdout",
     "output_type": "stream",
     "text": [
      "Requirement already satisfied: google in c:\\users\\91787\\anaconda3\\lib\\site-packages (3.0.0)\n",
      "Requirement already satisfied: beautifulsoup4 in c:\\users\\91787\\anaconda3\\lib\\site-packages (from google) (4.9.3)\n",
      "Requirement already satisfied: soupsieve>1.2; python_version >= \"3.0\" in c:\\users\\91787\\anaconda3\\lib\\site-packages (from beautifulsoup4->google) (2.0.1)\n",
      "Note: you may need to restart the kernel to use updated packages.\n"
     ]
    }
   ],
   "source": [
    "pip install google"
   ]
  },
  {
   "cell_type": "code",
   "execution_count": 3,
   "metadata": {},
   "outputs": [
    {
     "name": "stdout",
     "output_type": "stream",
     "text": [
      "Best course for python\n",
      "https://betterprogramming.pub/top-5-courses-to-learn-python-in-2018-best-of-lot-26644a99e7ec\n",
      "https://www.coursera.org/courses?query=python\n",
      "https://www.udemy.com/topic/python/\n",
      "https://hackr.io/blog/best-python-courses\n",
      "https://www.guru99.com/best-python-courses.html\n",
      "https://www.zdnet.com/article/best-python-course/\n",
      "https://www.quora.com/What-are-the-best-python-programming-online-courses\n",
      "https://www.quora.com/What-is-the-best-python-course\n",
      "https://www.quora.com/What-are-the-best-online-courses-to-learn-Python-in-2019\n",
      "https://www.quora.com/What-are-the-best-courses-to-learn-python-in-Udemy\n"
     ]
    }
   ],
   "source": [
    "from googlesearch import search\n",
    "query = input()\n",
    "for i in search(query, tld = \"co.in\", num = 10, stop = 10,pause = 2):\n",
    "    print(i)"
   ]
  }
 ],
 "metadata": {
  "kernelspec": {
   "display_name": "Python 3",
   "language": "python",
   "name": "python3"
  },
  "language_info": {
   "codemirror_mode": {
    "name": "ipython",
    "version": 3
   },
   "file_extension": ".py",
   "mimetype": "text/x-python",
   "name": "python",
   "nbconvert_exporter": "python",
   "pygments_lexer": "ipython3",
   "version": "3.8.5"
  }
 },
 "nbformat": 4,
 "nbformat_minor": 4
}
