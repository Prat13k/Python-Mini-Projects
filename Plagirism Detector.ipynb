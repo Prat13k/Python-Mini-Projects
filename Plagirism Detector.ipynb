{
 "cells": [
  {
   "cell_type": "code",
   "execution_count": 8,
   "metadata": {},
   "outputs": [
    {
     "name": "stdout",
     "output_type": "stream",
     "text": [
      "Collecting cdifflib\n",
      "  Downloading cdifflib-1.2.5.tar.gz (7.7 kB)\n",
      "Building wheels for collected packages: cdifflib\n",
      "  Building wheel for cdifflib (setup.py): started\n",
      "  Building wheel for cdifflib (setup.py): finished with status 'error'\n",
      "  Running setup.py clean for cdifflib\n",
      "Failed to build cdifflib\n",
      "Installing collected packages: cdifflib\n",
      "    Running setup.py install for cdifflib: started\n",
      "    Running setup.py install for cdifflib: finished with status 'error'\n",
      "Note: you may need to restart the kernel to use updated packages.\n"
     ]
    },
    {
     "name": "stderr",
     "output_type": "stream",
     "text": [
      "  ERROR: Command errored out with exit status 1:\n",
      "   command: 'C:\\Users\\91787\\anaconda3\\python.exe' -u -c 'import sys, setuptools, tokenize; sys.argv[0] = '\"'\"'C:\\\\Users\\\\91787\\\\AppData\\\\Local\\\\Temp\\\\pip-install-09b5biw1\\\\cdifflib\\\\setup.py'\"'\"'; __file__='\"'\"'C:\\\\Users\\\\91787\\\\AppData\\\\Local\\\\Temp\\\\pip-install-09b5biw1\\\\cdifflib\\\\setup.py'\"'\"';f=getattr(tokenize, '\"'\"'open'\"'\"', open)(__file__);code=f.read().replace('\"'\"'\\r\\n'\"'\"', '\"'\"'\\n'\"'\"');f.close();exec(compile(code, __file__, '\"'\"'exec'\"'\"'))' bdist_wheel -d 'C:\\Users\\91787\\AppData\\Local\\Temp\\pip-wheel-ysxzmcso'\n",
      "       cwd: C:\\Users\\91787\\AppData\\Local\\Temp\\pip-install-09b5biw1\\cdifflib\\\n",
      "  Complete output (9 lines):\n",
      "  running bdist_wheel\n",
      "  running build\n",
      "  running build_py\n",
      "  creating build\n",
      "  creating build\\lib.win-amd64-3.8\n",
      "  copying cdifflib.py -> build\\lib.win-amd64-3.8\n",
      "  running build_ext\n",
      "  building '_cdifflib' extension\n",
      "  error: Microsoft Visual C++ 14.0 or greater is required. Get it with \"Microsoft C++ Build Tools\": https://visualstudio.microsoft.com/visual-cpp-build-tools/\n",
      "  ----------------------------------------\n",
      "  ERROR: Failed building wheel for cdifflib\n",
      "    ERROR: Command errored out with exit status 1:\n",
      "     command: 'C:\\Users\\91787\\anaconda3\\python.exe' -u -c 'import sys, setuptools, tokenize; sys.argv[0] = '\"'\"'C:\\\\Users\\\\91787\\\\AppData\\\\Local\\\\Temp\\\\pip-install-09b5biw1\\\\cdifflib\\\\setup.py'\"'\"'; __file__='\"'\"'C:\\\\Users\\\\91787\\\\AppData\\\\Local\\\\Temp\\\\pip-install-09b5biw1\\\\cdifflib\\\\setup.py'\"'\"';f=getattr(tokenize, '\"'\"'open'\"'\"', open)(__file__);code=f.read().replace('\"'\"'\\r\\n'\"'\"', '\"'\"'\\n'\"'\"');f.close();exec(compile(code, __file__, '\"'\"'exec'\"'\"'))' install --record 'C:\\Users\\91787\\AppData\\Local\\Temp\\pip-record-fyodj8ej\\install-record.txt' --single-version-externally-managed --compile --install-headers 'C:\\Users\\91787\\anaconda3\\Include\\cdifflib'\n",
      "         cwd: C:\\Users\\91787\\AppData\\Local\\Temp\\pip-install-09b5biw1\\cdifflib\\\n",
      "    Complete output (9 lines):\n",
      "    running install\n",
      "    running build\n",
      "    running build_py\n",
      "    creating build\n",
      "    creating build\\lib.win-amd64-3.8\n",
      "    copying cdifflib.py -> build\\lib.win-amd64-3.8\n",
      "    running build_ext\n",
      "    building '_cdifflib' extension\n",
      "    error: Microsoft Visual C++ 14.0 or greater is required. Get it with \"Microsoft C++ Build Tools\": https://visualstudio.microsoft.com/visual-cpp-build-tools/\n",
      "    ----------------------------------------\n",
      "ERROR: Command errored out with exit status 1: 'C:\\Users\\91787\\anaconda3\\python.exe' -u -c 'import sys, setuptools, tokenize; sys.argv[0] = '\"'\"'C:\\\\Users\\\\91787\\\\AppData\\\\Local\\\\Temp\\\\pip-install-09b5biw1\\\\cdifflib\\\\setup.py'\"'\"'; __file__='\"'\"'C:\\\\Users\\\\91787\\\\AppData\\\\Local\\\\Temp\\\\pip-install-09b5biw1\\\\cdifflib\\\\setup.py'\"'\"';f=getattr(tokenize, '\"'\"'open'\"'\"', open)(__file__);code=f.read().replace('\"'\"'\\r\\n'\"'\"', '\"'\"'\\n'\"'\"');f.close();exec(compile(code, __file__, '\"'\"'exec'\"'\"'))' install --record 'C:\\Users\\91787\\AppData\\Local\\Temp\\pip-record-fyodj8ej\\install-record.txt' --single-version-externally-managed --compile --install-headers 'C:\\Users\\91787\\anaconda3\\Include\\cdifflib' Check the logs for full command output.\n"
     ]
    }
   ],
   "source": [
    "pip install cdifflib"
   ]
  },
  {
   "cell_type": "code",
   "execution_count": 11,
   "metadata": {},
   "outputs": [
    {
     "name": "stdout",
     "output_type": "stream",
     "text": [
      "C:\\Users\\91787\\Documents\\Mtech Data Science\\Others\n"
     ]
    },
    {
     "ename": "PermissionError",
     "evalue": "[Errno 13] Permission denied: 'C:\\\\Users\\\\91787\\\\Documents\\\\Mtech Data Science\\\\Others'",
     "output_type": "error",
     "traceback": [
      "\u001b[1;31m---------------------------------------------------------------------------\u001b[0m",
      "\u001b[1;31mPermissionError\u001b[0m                           Traceback (most recent call last)",
      "\u001b[1;32m<ipython-input-11-a8780553ee4a>\u001b[0m in \u001b[0;36m<module>\u001b[1;34m\u001b[0m\n\u001b[0;32m      1\u001b[0m \u001b[1;32mfrom\u001b[0m \u001b[0mdifflib\u001b[0m \u001b[1;32mimport\u001b[0m \u001b[0mSequenceMatcher\u001b[0m\u001b[1;33m\u001b[0m\u001b[1;33m\u001b[0m\u001b[0m\n\u001b[1;32m----> 2\u001b[1;33m \u001b[1;32mwith\u001b[0m \u001b[0mopen\u001b[0m\u001b[1;33m(\u001b[0m\u001b[0minput\u001b[0m\u001b[1;33m(\u001b[0m\u001b[1;33m)\u001b[0m\u001b[1;33m)\u001b[0m \u001b[1;32mas\u001b[0m \u001b[0mfile_1\u001b[0m\u001b[1;33m,\u001b[0m \u001b[0mopen\u001b[0m\u001b[1;33m(\u001b[0m\u001b[0minput\u001b[0m\u001b[1;33m(\u001b[0m\u001b[1;33m)\u001b[0m\u001b[1;33m)\u001b[0m \u001b[1;32mas\u001b[0m \u001b[0mfile_2\u001b[0m\u001b[1;33m:\u001b[0m\u001b[1;33m\u001b[0m\u001b[1;33m\u001b[0m\u001b[0m\n\u001b[0m\u001b[0;32m      3\u001b[0m     \u001b[0mfile_1_data\u001b[0m \u001b[1;33m=\u001b[0m \u001b[0mfile_1\u001b[0m\u001b[1;33m.\u001b[0m\u001b[0mread\u001b[0m\u001b[1;33m(\u001b[0m\u001b[1;33m)\u001b[0m\u001b[1;33m\u001b[0m\u001b[1;33m\u001b[0m\u001b[0m\n\u001b[0;32m      4\u001b[0m     \u001b[0mfile_2_data\u001b[0m \u001b[1;33m=\u001b[0m \u001b[0mfile_2\u001b[0m\u001b[1;33m.\u001b[0m\u001b[0mread\u001b[0m\u001b[1;33m(\u001b[0m\u001b[1;33m)\u001b[0m\u001b[1;33m\u001b[0m\u001b[1;33m\u001b[0m\u001b[0m\n\u001b[0;32m      5\u001b[0m     \u001b[0msimilarity_ratio\u001b[0m \u001b[1;33m=\u001b[0m \u001b[0mSequenceMatcher\u001b[0m\u001b[1;33m(\u001b[0m\u001b[0mnone\u001b[0m\u001b[1;33m,\u001b[0m\u001b[0mfile_1_data\u001b[0m\u001b[1;33m,\u001b[0m\u001b[0mfile_2_data\u001b[0m\u001b[1;33m)\u001b[0m\u001b[1;33m.\u001b[0m\u001b[0mratio\u001b[0m\u001b[1;33m(\u001b[0m\u001b[1;33m)\u001b[0m\u001b[1;33m\u001b[0m\u001b[1;33m\u001b[0m\u001b[0m\n",
      "\u001b[1;31mPermissionError\u001b[0m: [Errno 13] Permission denied: 'C:\\\\Users\\\\91787\\\\Documents\\\\Mtech Data Science\\\\Others'"
     ]
    }
   ],
   "source": [
    "from difflib import SequenceMatcher\n",
    "with open(input()) as file_1, open(input()) as file_2:\n",
    "    file_1_data = file_1.read()\n",
    "    file_2_data = file_2.read()\n",
    "    similarity_ratio = SequenceMatcher(none,file_1_data,file_2_data).ratio()\n",
    "    print(similarity_ratio)"
   ]
  }
 ],
 "metadata": {
  "kernelspec": {
   "display_name": "Python 3",
   "language": "python",
   "name": "python3"
  },
  "language_info": {
   "codemirror_mode": {
    "name": "ipython",
    "version": 3
   },
   "file_extension": ".py",
   "mimetype": "text/x-python",
   "name": "python",
   "nbconvert_exporter": "python",
   "pygments_lexer": "ipython3",
   "version": "3.8.5"
  }
 },
 "nbformat": 4,
 "nbformat_minor": 4
}
