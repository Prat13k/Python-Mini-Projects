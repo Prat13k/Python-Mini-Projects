{
 "cells": [
  {
   "cell_type": "code",
   "execution_count": 1,
   "metadata": {},
   "outputs": [],
   "source": [
    "import random"
   ]
  },
  {
   "cell_type": "code",
   "execution_count": 2,
   "metadata": {},
   "outputs": [],
   "source": [
    "num_digits = 4\n",
    "max_guesses = 10"
   ]
  },
  {
   "cell_type": "code",
   "execution_count": 3,
   "metadata": {},
   "outputs": [],
   "source": [
    "def main():\n",
    "    print(\"**BAGELS**\\nThe Game\")\n",
    "    while True:\n",
    "        secret_num = getsecret_num()\n",
    "        print('I have thought a number')\n",
    "        print('you have {} guesses to get it')\n",
    "        num_guesses = 1\n",
    "        while num_guesses <= max_guesses:\n",
    "            guess = ''\n",
    "            while len(guess) != num_digits or not guess.isdecimal():\n",
    "                print('Guesses :{}',format(num_guesses))\n",
    "                guess = input('>')\n",
    "                clues = getclues(guess,secret_num)\n",
    "                print(clues)\n",
    "                num_guesses += 1\n",
    "            if guess == secret_num:\n",
    "                break \n",
    "            if num_guesses > max_guesses:\n",
    "                print('You ran out of guesses.')\n",
    "                print('The answer was{}'.format(secret_num))\n",
    "                print('Do you want to play again? (yes or no)')\n",
    "                if not input('> ').lower().startswith('y'):\n",
    "                    break\n",
    "            print('Thanks for playing!')"
   ]
  },
  {
   "cell_type": "code",
   "execution_count": 4,
   "metadata": {},
   "outputs": [],
   "source": [
    "def getsecret_num():\n",
    "    numbers = list('1234567890')\n",
    "    random.shuffle(numbers)\n",
    "    secret_num = ''\n",
    "    for i in range(num_digits):\n",
    "        secret_num += numbers[i]\n",
    "        return secret_num"
   ]
  },
  {
   "cell_type": "code",
   "execution_count": 5,
   "metadata": {},
   "outputs": [],
   "source": [
    "def getclues(guess, secret_num):\n",
    "    if guess == secret_num:\n",
    "        return 'You got it!'\n",
    "    clues = []\n",
    "    for i in range(len(guess)):\n",
    "        if guess[i] == str(secret_num[i]):\n",
    "            clues.append('Fermi')\n",
    "        elif guess[i] in secret_num:\n",
    "            clues.append('Pico')\n",
    "        if len(clues) == 0:\n",
    "            return 'Bagels'\n",
    "        else:\n",
    "            clues.sort()\n",
    "            return ' '.join(clues)"
   ]
  },
  {
   "cell_type": "code",
   "execution_count": null,
   "metadata": {},
   "outputs": [
    {
     "name": "stdout",
     "output_type": "stream",
     "text": [
      "**BAGELS**\n",
      "The Game\n",
      "I have thought a number\n",
      "you have {} guesses to get it\n",
      "Guesses :{} 1\n",
      ">5\n",
      "Bagels\n",
      "Guesses :{} 2\n",
      ">4\n",
      "Bagels\n",
      "Guesses :{} 3\n",
      ">2\n",
      "Bagels\n",
      "Guesses :{} 4\n",
      ">8\n",
      "Bagels\n",
      "Guesses :{} 5\n",
      ">9\n",
      "Bagels\n",
      "Guesses :{} 6\n",
      ">7\n",
      "Bagels\n",
      "Guesses :{} 7\n",
      ">3\n",
      "Bagels\n",
      "Guesses :{} 8\n",
      ">1\n",
      "Bagels\n",
      "Guesses :{} 9\n",
      ">2\n",
      "Bagels\n",
      "Guesses :{} 10\n"
     ]
    }
   ],
   "source": [
    "if __name__ == '__main__':\n",
    "    main()"
   ]
  },
  {
   "cell_type": "code",
   "execution_count": null,
   "metadata": {},
   "outputs": [],
   "source": []
  }
 ],
 "metadata": {
  "kernelspec": {
   "display_name": "Python 3",
   "language": "python",
   "name": "python3"
  },
  "language_info": {
   "codemirror_mode": {
    "name": "ipython",
    "version": 3
   },
   "file_extension": ".py",
   "mimetype": "text/x-python",
   "name": "python",
   "nbconvert_exporter": "python",
   "pygments_lexer": "ipython3",
   "version": "3.8.5"
  }
 },
 "nbformat": 4,
 "nbformat_minor": 4
}
