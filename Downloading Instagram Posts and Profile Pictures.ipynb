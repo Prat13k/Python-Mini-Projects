{
 "cells": [
  {
   "cell_type": "code",
   "execution_count": 1,
   "metadata": {},
   "outputs": [
    {
     "name": "stdout",
     "output_type": "stream",
     "text": [
      "Collecting instaloader\n",
      "  Downloading instaloader-4.8.1.tar.gz (54 kB)\n",
      "Requirement already satisfied: requests>=2.4 in c:\\users\\91787\\anaconda3\\lib\\site-packages (from instaloader) (2.25.1)\n",
      "Requirement already satisfied: certifi>=2017.4.17 in c:\\users\\91787\\anaconda3\\lib\\site-packages (from requests>=2.4->instaloader) (2020.6.20)\n",
      "Requirement already satisfied: urllib3<1.27,>=1.21.1 in c:\\users\\91787\\anaconda3\\lib\\site-packages (from requests>=2.4->instaloader) (1.25.11)\n",
      "Requirement already satisfied: idna<3,>=2.5 in c:\\users\\91787\\anaconda3\\lib\\site-packages (from requests>=2.4->instaloader) (2.10)\n",
      "Requirement already satisfied: chardet<5,>=3.0.2 in c:\\users\\91787\\anaconda3\\lib\\site-packages (from requests>=2.4->instaloader) (3.0.4)\n",
      "Building wheels for collected packages: instaloader\n",
      "  Building wheel for instaloader (setup.py): started\n",
      "  Building wheel for instaloader (setup.py): finished with status 'done'\n",
      "  Created wheel for instaloader: filename=instaloader-4.8.1-py3-none-any.whl size=58707 sha256=b56085e8b9b7ba409a4dd33bae437e1edb43098158d0c640fdc323341aea6c53\n",
      "  Stored in directory: c:\\users\\91787\\appdata\\local\\pip\\cache\\wheels\\71\\85\\10\\e5a35091a426cde8a604e0db4f721971439e2796e72e08f4e9\n",
      "Successfully built instaloader\n",
      "Installing collected packages: instaloader\n",
      "Successfully installed instaloader-4.8.1\n",
      "Note: you may need to restart the kernel to use updated packages.\n"
     ]
    }
   ],
   "source": [
    "pip install instaloader"
   ]
  },
  {
   "cell_type": "code",
   "execution_count": 4,
   "metadata": {},
   "outputs": [
    {
     "name": "stdout",
     "output_type": "stream",
     "text": [
      "Enter the Profile Name : sahielpatil_\n",
      "Stored ID 4359231310 for profile sahielpatil_.\n",
      "sahielpatil_\\2018-09-24_10-51-55_UTC_profile_pic.jpg \n",
      "Retrieving posts from profile sahielpatil_.\n",
      "[ 1/27] sahielpatil_\\2020-01-12_18-14-06_UTC.jpg [You understand me like nobody…] json \n",
      "[ 2/27] sahielpatil_\\2020-01-01_13-57-59_UTC_1.jpg sahielpatil_\\2020-01-01_13-57-59_UTC_2.jpg [Welcomes to the family #siste…] json \n",
      "[ 3/27] sahielpatil_\\2019-12-22_09-16-24_UTC.jpg [L U E U R] json \n",
      "[ 4/27] sahielpatil_\\2019-12-06_15-30-50_UTC_1.jpg sahielpatil_\\2019-12-06_15-30-50_UTC_2.jpg [#Wedding] json \n",
      "[ 5/27] sahielpatil_\\2019-11-29_19-30-06_UTC.jpg [I don’t know where I’m going,…] json \n",
      "[ 6/27] sahielpatil_\\2019-07-17_18-45-24_UTC.jpg [If you don’t believe in yours…] json \n",
      "[ 7/27] sahielpatil_\\2018-09-10_07-56-50_UTC.jpg [Take positives out of negativ…] json \n",
      "[ 8/27] sahielpatil_\\2018-09-07_16-14-11_UTC.jpg [Watching #THE_NUN] sahielpatil_\\2018-09-07_16-14-11_UTC.mp4 json \n",
      "[ 9/27] sahielpatil_\\2018-09-02_19-12-28_UTC.jpg [Wish u all a very happy janma…] sahielpatil_\\2018-09-02_19-12-28_UTC.mp4 json \n",
      "[10/27] sahielpatil_\\2018-08-20_18-54-27_UTC_1.jpg sahielpatil_\\2018-08-20_18-54-27_UTC_2.jpg [WISH U MANY MANY HAPPY RETURN…] json \n",
      "[11/27] sahielpatil_\\2018-08-17_07-38-21_UTC.jpg [You will always be my best fr…] json \n",
      "[12/27] sahielpatil_\\2018-08-01_12-19-06_UTC.jpg [Ingenious 🖤 Pc :- @pratiek_pa…] json \n",
      "[13/27] sahielpatil_\\2018-07-30_18-06-31_UTC_1.jpg sahielpatil_\\2018-07-30_18-06-31_UTC_2.jpg sahielpatil_\\2018-07-30_18-06-31_UTC_3.jpg [Happy wala birthday 🎂 #v1renn…] json \n",
      "[14/27] sahielpatil_\\2018-07-16_10-46-04_UTC_1.jpg sahielpatil_\\2018-07-16_10-46-04_UTC_2.jpg sahielpatil_\\2018-07-16_10-46-04_UTC_3.jpg [#wedding memories] json \n",
      "[15/27] sahielpatil_\\2018-07-05_10-35-46_UTC.jpg [Take chance when you’re young…] json \n",
      "[16/27] sahielpatil_\\2018-06-10_05-33-58_UTC.jpg [Happy birthday 🎂 day aatya] json \n",
      "[17/27] sahielpatil_\\2018-03-28_15-38-59_UTC.jpg [And Really!! I think I like w…] json \n",
      "[18/27] sahielpatil_\\2018-03-24_04-38-49_UTC.jpg [Speed over 120...😎😎✌️✌️] sahielpatil_\\2018-03-24_04-38-49_UTC.mp4 json \n",
      "[19/27] sahielpatil_\\2018-03-04_07-23-56_UTC.jpg [In order to succeed we must f…] json \n",
      "[20/27] sahielpatil_\\2018-02-19_17-56-23_UTC.jpg [😎😎✌️✌️] json \n",
      "[21/27] sahielpatil_\\2018-01-08_11-10-31_UTC.jpg [If you don't have any haters …] json \n",
      "[22/27] sahielpatil_\\2017-07-27_10-19-22_UTC.jpg [Those drugs were not capable …] json \n",
      "[23/27] sahielpatil_\\2017-07-16_11-31-45_UTC.jpg [If i cannot break your fall, …] json \n",
      "[24/27] sahielpatil_\\2017-07-09_11-37-53_UTC.jpg [#brothers #Hustlers 😎💪🤜🤛] json \n",
      "[25/27] sahielpatil_\\2017-06-19_14-44-59_UTC.jpg [#Friends_forever #Hustlers] json \n",
      "[26/27] sahielpatil_\\2017-03-20_14-28-09_UTC.jpg json \n",
      "[27/27] sahielpatil_\\2017-03-16_15-18-14_UTC.jpg json \n"
     ]
    }
   ],
   "source": [
    "import instaloader\n",
    "d = instaloader.Instaloader()\n",
    "profile_name = input(\"Enter the Profile Name : \")\n",
    "d.download_profile(profile_name,profile_pic_only = False)"
   ]
  }
 ],
 "metadata": {
  "kernelspec": {
   "display_name": "Python 3",
   "language": "python",
   "name": "python3"
  },
  "language_info": {
   "codemirror_mode": {
    "name": "ipython",
    "version": 3
   },
   "file_extension": ".py",
   "mimetype": "text/x-python",
   "name": "python",
   "nbconvert_exporter": "python",
   "pygments_lexer": "ipython3",
   "version": "3.8.5"
  }
 },
 "nbformat": 4,
 "nbformat_minor": 4
}
